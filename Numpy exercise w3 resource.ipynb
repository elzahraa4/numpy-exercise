{
 "cells": [
  {
   "cell_type": "markdown",
   "id": "81283e82",
   "metadata": {},
   "source": [
    "# Numpy exercise from w3 resouce"
   ]
  },
  {
   "cell_type": "markdown",
   "id": "ef2eb737",
   "metadata": {},
   "source": [
    "## 1-Numpy Basics"
   ]
  },
  {
   "cell_type": "code",
   "execution_count": 1,
   "id": "a23f0cf4",
   "metadata": {},
   "outputs": [],
   "source": [
    "import numpy as np"
   ]
  },
  {
   "cell_type": "code",
   "execution_count": 2,
   "id": "10e757f7",
   "metadata": {},
   "outputs": [
    {
     "name": "stdout",
     "output_type": "stream",
     "text": [
      "1.23.5\n"
     ]
    }
   ],
   "source": [
    "# to show numpy version\n",
    "print(np.__version__)"
   ]
  },
  {
   "cell_type": "code",
   "execution_count": 3,
   "id": "000fe939",
   "metadata": {},
   "outputs": [
    {
     "name": "stdout",
     "output_type": "stream",
     "text": [
      "blas_armpl_info:\n",
      "  NOT AVAILABLE\n",
      "blas_mkl_info:\n",
      "    libraries = ['mkl_rt']\n",
      "    library_dirs = ['C:/Users/MosTa/anaconda3\\\\Library\\\\lib']\n",
      "    define_macros = [('SCIPY_MKL_H', None), ('HAVE_CBLAS', None)]\n",
      "    include_dirs = ['C:/Users/MosTa/anaconda3\\\\Library\\\\include']\n",
      "blas_opt_info:\n",
      "    libraries = ['mkl_rt']\n",
      "    library_dirs = ['C:/Users/MosTa/anaconda3\\\\Library\\\\lib']\n",
      "    define_macros = [('SCIPY_MKL_H', None), ('HAVE_CBLAS', None)]\n",
      "    include_dirs = ['C:/Users/MosTa/anaconda3\\\\Library\\\\include']\n",
      "lapack_armpl_info:\n",
      "  NOT AVAILABLE\n",
      "lapack_mkl_info:\n",
      "    libraries = ['mkl_rt']\n",
      "    library_dirs = ['C:/Users/MosTa/anaconda3\\\\Library\\\\lib']\n",
      "    define_macros = [('SCIPY_MKL_H', None), ('HAVE_CBLAS', None)]\n",
      "    include_dirs = ['C:/Users/MosTa/anaconda3\\\\Library\\\\include']\n",
      "lapack_opt_info:\n",
      "    libraries = ['mkl_rt']\n",
      "    library_dirs = ['C:/Users/MosTa/anaconda3\\\\Library\\\\lib']\n",
      "    define_macros = [('SCIPY_MKL_H', None), ('HAVE_CBLAS', None)]\n",
      "    include_dirs = ['C:/Users/MosTa/anaconda3\\\\Library\\\\include']\n",
      "Supported SIMD extensions in this NumPy install:\n",
      "    baseline = SSE,SSE2,SSE3\n",
      "    found = SSSE3,SSE41,POPCNT,SSE42,AVX\n",
      "    not found = F16C,FMA3,AVX2,AVX512F,AVX512CD,AVX512_SKX,AVX512_CLX,AVX512_CNL\n",
      "None\n"
     ]
    }
   ],
   "source": [
    "# to show numpy build configuration\n",
    "print(np.show_config())"
   ]
  },
  {
   "cell_type": "code",
   "execution_count": 4,
   "id": "e7b1412d",
   "metadata": {},
   "outputs": [
    {
     "name": "stdout",
     "output_type": "stream",
     "text": [
      "add(x1, x2, /, out=None, *, where=True, casting='same_kind', order='K', dtype=None, subok=True[, signature, extobj])\n",
      "\n",
      "Add arguments element-wise.\n",
      "\n",
      "Parameters\n",
      "----------\n",
      "x1, x2 : array_like\n",
      "    The arrays to be added.\n",
      "    If ``x1.shape != x2.shape``, they must be broadcastable to a common\n",
      "    shape (which becomes the shape of the output).\n",
      "out : ndarray, None, or tuple of ndarray and None, optional\n",
      "    A location into which the result is stored. If provided, it must have\n",
      "    a shape that the inputs broadcast to. If not provided or None,\n",
      "    a freshly-allocated array is returned. A tuple (possible only as a\n",
      "    keyword argument) must have length equal to the number of outputs.\n",
      "where : array_like, optional\n",
      "    This condition is broadcast over the input. At locations where the\n",
      "    condition is True, the `out` array will be set to the ufunc result.\n",
      "    Elsewhere, the `out` array will retain its original value.\n",
      "    Note that if an uninitialized `out` array is created via the default\n",
      "    ``out=None``, locations within it where the condition is False will\n",
      "    remain uninitialized.\n",
      "**kwargs\n",
      "    For other keyword-only arguments, see the\n",
      "    :ref:`ufunc docs <ufuncs.kwargs>`.\n",
      "\n",
      "Returns\n",
      "-------\n",
      "add : ndarray or scalar\n",
      "    The sum of `x1` and `x2`, element-wise.\n",
      "    This is a scalar if both `x1` and `x2` are scalars.\n",
      "\n",
      "Notes\n",
      "-----\n",
      "Equivalent to `x1` + `x2` in terms of array broadcasting.\n",
      "\n",
      "Examples\n",
      "--------\n",
      ">>> np.add(1.0, 4.0)\n",
      "5.0\n",
      ">>> x1 = np.arange(9.0).reshape((3, 3))\n",
      ">>> x2 = np.arange(3.0)\n",
      ">>> np.add(x1, x2)\n",
      "array([[  0.,   2.,   4.],\n",
      "       [  3.,   5.,   7.],\n",
      "       [  6.,   8.,  10.]])\n",
      "\n",
      "The ``+`` operator can be used as a shorthand for ``np.add`` on ndarrays.\n",
      "\n",
      ">>> x1 = np.arange(9.0).reshape((3, 3))\n",
      ">>> x2 = np.arange(3.0)\n",
      ">>> x1 + x2\n",
      "array([[ 0.,  2.,  4.],\n",
      "       [ 3.,  5.,  7.],\n",
      "       [ 6.,  8., 10.]])\n",
      "None\n"
     ]
    }
   ],
   "source": [
    "# get help with the 'add' function\n",
    "print(np.info(np.add))"
   ]
  },
  {
   "cell_type": "code",
   "execution_count": 5,
   "id": "c154dd1d",
   "metadata": {},
   "outputs": [
    {
     "name": "stdout",
     "output_type": "stream",
     "text": [
      "exp(x, /, out=None, *, where=True, casting='same_kind', order='K', dtype=None, subok=True[, signature, extobj])\n",
      "\n",
      "Calculate the exponential of all elements in the input array.\n",
      "\n",
      "Parameters\n",
      "----------\n",
      "x : array_like\n",
      "    Input values.\n",
      "out : ndarray, None, or tuple of ndarray and None, optional\n",
      "    A location into which the result is stored. If provided, it must have\n",
      "    a shape that the inputs broadcast to. If not provided or None,\n",
      "    a freshly-allocated array is returned. A tuple (possible only as a\n",
      "    keyword argument) must have length equal to the number of outputs.\n",
      "where : array_like, optional\n",
      "    This condition is broadcast over the input. At locations where the\n",
      "    condition is True, the `out` array will be set to the ufunc result.\n",
      "    Elsewhere, the `out` array will retain its original value.\n",
      "    Note that if an uninitialized `out` array is created via the default\n",
      "    ``out=None``, locations within it where the condition is False will\n",
      "    remain uninitialized.\n",
      "**kwargs\n",
      "    For other keyword-only arguments, see the\n",
      "    :ref:`ufunc docs <ufuncs.kwargs>`.\n",
      "\n",
      "Returns\n",
      "-------\n",
      "out : ndarray or scalar\n",
      "    Output array, element-wise exponential of `x`.\n",
      "    This is a scalar if `x` is a scalar.\n",
      "\n",
      "See Also\n",
      "--------\n",
      "expm1 : Calculate ``exp(x) - 1`` for all elements in the array.\n",
      "exp2  : Calculate ``2**x`` for all elements in the array.\n",
      "\n",
      "Notes\n",
      "-----\n",
      "The irrational number ``e`` is also known as Euler's number.  It is\n",
      "approximately 2.718281, and is the base of the natural logarithm,\n",
      "``ln`` (this means that, if :math:`x = \\ln y = \\log_e y`,\n",
      "then :math:`e^x = y`. For real input, ``exp(x)`` is always positive.\n",
      "\n",
      "For complex arguments, ``x = a + ib``, we can write\n",
      ":math:`e^x = e^a e^{ib}`.  The first term, :math:`e^a`, is already\n",
      "known (it is the real argument, described above).  The second term,\n",
      ":math:`e^{ib}`, is :math:`\\cos b + i \\sin b`, a function with\n",
      "magnitude 1 and a periodic phase.\n",
      "\n",
      "References\n",
      "----------\n",
      ".. [1] Wikipedia, \"Exponential function\",\n",
      "       https://en.wikipedia.org/wiki/Exponential_function\n",
      ".. [2] M. Abramovitz and I. A. Stegun, \"Handbook of Mathematical Functions\n",
      "       with Formulas, Graphs, and Mathematical Tables,\" Dover, 1964, p. 69,\n",
      "       https://personal.math.ubc.ca/~cbm/aands/page_69.htm\n",
      "\n",
      "Examples\n",
      "--------\n",
      "Plot the magnitude and phase of ``exp(x)`` in the complex plane:\n",
      "\n",
      ">>> import matplotlib.pyplot as plt\n",
      "\n",
      ">>> x = np.linspace(-2*np.pi, 2*np.pi, 100)\n",
      ">>> xx = x + 1j * x[:, np.newaxis] # a + ib over complex plane\n",
      ">>> out = np.exp(xx)\n",
      "\n",
      ">>> plt.subplot(121)\n",
      ">>> plt.imshow(np.abs(out),\n",
      "...            extent=[-2*np.pi, 2*np.pi, -2*np.pi, 2*np.pi], cmap='gray')\n",
      ">>> plt.title('Magnitude of exp(x)')\n",
      "\n",
      ">>> plt.subplot(122)\n",
      ">>> plt.imshow(np.angle(out),\n",
      "...            extent=[-2*np.pi, 2*np.pi, -2*np.pi, 2*np.pi], cmap='hsv')\n",
      ">>> plt.title('Phase (angle) of exp(x)')\n",
      ">>> plt.show()\n",
      "None\n"
     ]
    }
   ],
   "source": [
    "print(np.info(np.exp))"
   ]
  },
  {
   "cell_type": "code",
   "execution_count": 6,
   "id": "d17b56cb",
   "metadata": {},
   "outputs": [
    {
     "name": "stdout",
     "output_type": "stream",
     "text": [
      "True\n",
      "False\n"
     ]
    }
   ],
   "source": [
    "#test if none of elements in array is zero\n",
    "a = np.array([1, 2, 3])\n",
    "print(np.all(a))\n",
    "b = np.array([0, 1, 2,23])\n",
    "print(np.all(b))"
   ]
  },
  {
   "cell_type": "code",
   "execution_count": 7,
   "id": "aff4ae6a",
   "metadata": {},
   "outputs": [
    {
     "name": "stdout",
     "output_type": "stream",
     "text": [
      "True\n",
      "True\n"
     ]
    }
   ],
   "source": [
    "# test if any of the elements are non-zero\n",
    "a = np.array([1, 2, 3])\n",
    "print(np.any(a))\n",
    "b = np.array([0, 1, 2,23])\n",
    "print(np.any(b))"
   ]
  },
  {
   "cell_type": "code",
   "execution_count": 8,
   "id": "60a12731",
   "metadata": {},
   "outputs": [
    {
     "name": "stdout",
     "output_type": "stream",
     "text": [
      "[ True  True False]\n",
      "[ True False  True  True]\n"
     ]
    }
   ],
   "source": [
    "# if element-wise is infinity or not a number (test for finiteness = means that each element is a finite number\n",
    "a = np.array([1, 2, np.inf])\n",
    "print(np.isfinite(a))\n",
    "b = np.array([0, np.nan, 2,23])\n",
    "print(np.isfinite(b))"
   ]
  },
  {
   "cell_type": "code",
   "execution_count": 9,
   "id": "5526401d",
   "metadata": {},
   "outputs": [
    {
     "name": "stdout",
     "output_type": "stream",
     "text": [
      "[False False  True False False]\n"
     ]
    }
   ],
   "source": [
    "# test for positive or negative infinity\n",
    "a = np.array([1, 2, np.inf, np.nan, 45])\n",
    "print(np.isinf(a))"
   ]
  },
  {
   "cell_type": "code",
   "execution_count": 10,
   "id": "f5787fb5",
   "metadata": {},
   "outputs": [
    {
     "name": "stdout",
     "output_type": "stream",
     "text": [
      "[False False False  True False]\n"
     ]
    }
   ],
   "source": [
    "# check for NANs\n",
    "a = np.array([1, 2, np.inf, np.nan, 45])\n",
    "print(np.isnan(a))"
   ]
  },
  {
   "cell_type": "code",
   "execution_count": 11,
   "id": "11ed61ae",
   "metadata": {},
   "outputs": [
    {
     "name": "stdout",
     "output_type": "stream",
     "text": [
      "[False  True  True False False]\n",
      "[ True False False  True  True]\n",
      "False\n"
     ]
    }
   ],
   "source": [
    "#check for complex # comples values uses letter \"j \" only\n",
    "a = np.array([1, 2+5j, -2+8j, 4, 5])\n",
    "print(np.iscomplex(a))\n",
    "#check for real\n",
    "a = np.array([1, 2+5j, -2+8j, 4, 5])\n",
    "print(np.isreal(a))\n",
    "\n",
    "#check for scalar numbers\n",
    "a = np.array([1, 4, 5.4])\n",
    "print(np.isscalar(a))"
   ]
  },
  {
   "cell_type": "code",
   "execution_count": 12,
   "id": "e61dfe96",
   "metadata": {},
   "outputs": [
    {
     "name": "stdout",
     "output_type": "stream",
     "text": [
      "[1. +1.j 1. +0.j 4.5+0.j 3. +0.j 2. +0.j 0. +2.j]\n",
      "[ True False False False False  True]\n",
      "[False  True  True  True  True False]\n",
      "True\n",
      "False\n"
     ]
    }
   ],
   "source": [
    "a = np.array([1+1j, 1+0j, 4.5, 3, 2, 2j])\n",
    "#print original arr\n",
    "print(a)\n",
    "#Checking for complex number which is like 1+2j\n",
    "print(np.iscomplex(a))\n",
    "#Checking for real number which is like 1, 34\n",
    "print(np.isreal(a))\n",
    "#Checking for scalar type which means one item/ value\n",
    "print(np.isscalar(3.1))\n",
    "print(np.isscalar([3.1]))"
   ]
  },
  {
   "cell_type": "code",
   "execution_count": 13,
   "id": "045ab5db",
   "metadata": {},
   "outputs": [
    {
     "name": "stdout",
     "output_type": "stream",
     "text": [
      "[3 5]\n",
      "[2 5]\n",
      "[ True False]\n",
      "[False  True]\n",
      "[ True False]\n",
      "[False  True]\n"
     ]
    }
   ],
   "source": [
    "import numpy as np\n",
    "x = np.array([3, 5])\n",
    "y = np.array([2, 5])\n",
    "print(x)\n",
    "print(y)\n",
    "\n",
    "#Comparison - if x element greater than y element\n",
    "print(np.greater(x, y))\n",
    "\n",
    "#Comparison if y element greater or equal to X element \n",
    "print(np.greater_equal(y, x))\n",
    "#Comparison if Y ele  less than X ele\n",
    "print(np.less(y, x))\n",
    "#Comparison if X ele  less or equal to Y ele\n",
    "print(np.less_equal(x, y))\n"
   ]
  },
  {
   "cell_type": "markdown",
   "id": "f785ed45",
   "metadata": {},
   "source": [
    "11- Write a NumPy program to create an element-wise comparison (equal, equal within a tolerance) of two given arrays."
   ]
  },
  {
   "cell_type": "code",
   "execution_count": 14,
   "id": "4e701607",
   "metadata": {},
   "outputs": [
    {
     "name": "stdout",
     "output_type": "stream",
     "text": [
      "[  72   79   85   90  150 -135  120  -10   60  100]\n",
      "[  72.         79.         85.         90.        150.       -135.\n",
      "  120.        -10.         60.        100.000001]\n",
      "[ True  True  True  True  True  True  True  True  True False]\n",
      "True\n"
     ]
    }
   ],
   "source": [
    "import numpy as np\n",
    "x = np.array([72, 79, 85, 90, 150, -135, 120, -10, 60, 100])\n",
    "y = np.array([72, 79, 85, 90, 150, -135, 120, -10, 60, 100.000001])\n",
    "print(x)\n",
    "print(y)\n",
    "\n",
    "# Comparison if x  equal   y\n",
    "print(np.equal(x, y))\n",
    "\n",
    "#Comparison - if two arrays are almost closer \n",
    "print(np.allclose(x, y))\n"
   ]
  },
  {
   "cell_type": "markdown",
   "id": "3017665e",
   "metadata": {},
   "source": [
    "12. Write a NumPy program to create an array with the values 1, 7, 13, 105 and determine the size of the memory occupied by the array"
   ]
  },
  {
   "cell_type": "code",
   "execution_count": 15,
   "id": "bddcf046",
   "metadata": {},
   "outputs": [
    {
     "name": "stdout",
     "output_type": "stream",
     "text": [
      "4\n",
      "4\n",
      "16 bytes\n",
      "128 bits\n",
      "16 bytes\n",
      "128 bits\n"
     ]
    }
   ],
   "source": [
    "a = np.array([1, 7, 13, 105])\n",
    "s = np.size(a)\n",
    "print(a.size)\n",
    "print(a.itemsize)# depend on the system item size will be 4bytes for int32\n",
    "# if system allows to store an item in 64int, then item size will be 8 bytes\n",
    "print((a.nbytes), \"bytes\" )\n",
    "print((a.nbytes)*8,\"bits\")\n",
    "#another approach\n",
    "print(a.size*a.itemsize, \"bytes\")\n",
    "print((a.size*a.itemsize)*8, \"bits\")"
   ]
  },
  {
   "cell_type": "markdown",
   "id": "79e04e6b",
   "metadata": {},
   "source": [
    "13. Write a NumPy program to create an array of 10 zeros, 10 ones, and 10 fives. "
   ]
  },
  {
   "cell_type": "code",
   "execution_count": 16,
   "id": "8704308f",
   "metadata": {},
   "outputs": [
    {
     "data": {
      "text/plain": [
       "array([[0., 0., 0., 0., 0., 0., 0., 0., 0., 0.],\n",
       "       [0., 0., 0., 0., 0., 0., 0., 0., 0., 0.],\n",
       "       [0., 0., 0., 0., 0., 0., 0., 0., 0., 0.]])"
      ]
     },
     "execution_count": 16,
     "metadata": {},
     "output_type": "execute_result"
    }
   ],
   "source": [
    "a = np.zeros((3, 10))\n",
    "a\n"
   ]
  },
  {
   "cell_type": "code",
   "execution_count": 17,
   "id": "3b1acbe4",
   "metadata": {},
   "outputs": [
    {
     "data": {
      "text/plain": [
       "array([[ 0.,  0.,  0.,  0.,  0.,  0.,  0.,  0.,  0.,  0.],\n",
       "       [10., 10., 10., 10., 10., 10., 10., 10., 10., 10.],\n",
       "       [ 5.,  5.,  5.,  5.,  5.,  5.,  5.,  5.,  5.,  5.]])"
      ]
     },
     "execution_count": 17,
     "metadata": {},
     "output_type": "execute_result"
    }
   ],
   "source": [
    "#slicing to replace 2nd row with 10 tens, & 3rd row with 10 fives\n",
    "a[1, : ] = 10\n",
    "a[2, : ] = 5\n",
    "a"
   ]
  },
  {
   "cell_type": "code",
   "execution_count": 18,
   "id": "331924fc",
   "metadata": {},
   "outputs": [
    {
     "data": {
      "text/plain": [
       "array([[0., 0., 0.],\n",
       "       [0., 0., 0.],\n",
       "       [0., 0., 0.],\n",
       "       [0., 0., 0.],\n",
       "       [0., 0., 0.],\n",
       "       [0., 0., 0.],\n",
       "       [0., 0., 0.],\n",
       "       [0., 0., 0.],\n",
       "       [0., 0., 0.],\n",
       "       [0., 0., 0.]])"
      ]
     },
     "execution_count": 18,
     "metadata": {},
     "output_type": "execute_result"
    }
   ],
   "source": [
    "a = np.zeros((10, 3))\n",
    "a"
   ]
  },
  {
   "cell_type": "code",
   "execution_count": 19,
   "id": "84003ae6",
   "metadata": {},
   "outputs": [
    {
     "data": {
      "text/plain": [
       "array([[ 0., 10.,  5.],\n",
       "       [ 0., 10.,  5.],\n",
       "       [ 0., 10.,  5.],\n",
       "       [ 0., 10.,  5.],\n",
       "       [ 0., 10.,  5.],\n",
       "       [ 0., 10.,  5.],\n",
       "       [ 0., 10.,  5.],\n",
       "       [ 0., 10.,  5.],\n",
       "       [ 0., 10.,  5.],\n",
       "       [ 0., 10.,  5.]])"
      ]
     },
     "execution_count": 19,
     "metadata": {},
     "output_type": "execute_result"
    }
   ],
   "source": [
    "#slicing to replace 2nd column with 10 tens, & 3rd column with 10 fives\n",
    "a[: , 1 ] = 10\n",
    "a[: , 2 ] = 5\n",
    "a"
   ]
  },
  {
   "cell_type": "markdown",
   "id": "7ff732a9",
   "metadata": {},
   "source": [
    "14.Write a NumPy program to create an array of integers from 30 to 70"
   ]
  },
  {
   "cell_type": "code",
   "execution_count": 20,
   "id": "aa36c6d6",
   "metadata": {},
   "outputs": [
    {
     "data": {
      "text/plain": [
       "array([30, 31, 32, 33, 34, 35, 36, 37, 38, 39, 40, 41, 42, 43, 44, 45, 46,\n",
       "       47, 48, 49, 50, 51, 52, 53, 54, 55, 56, 57, 58, 59, 60, 61, 62, 63,\n",
       "       64, 65, 66, 67, 68, 69, 70])"
      ]
     },
     "execution_count": 20,
     "metadata": {},
     "output_type": "execute_result"
    }
   ],
   "source": [
    "a = np.arange(30,71)\n",
    "a"
   ]
  },
  {
   "cell_type": "markdown",
   "id": "7f197cf2",
   "metadata": {},
   "source": [
    "15.Write a NumPy program to create an array of all even integers from 30 to 70"
   ]
  },
  {
   "cell_type": "code",
   "execution_count": 21,
   "id": "81f6f17e",
   "metadata": {},
   "outputs": [
    {
     "data": {
      "text/plain": [
       "array([30, 32, 34, 36, 38, 40, 42, 44, 46, 48, 50, 52, 54, 56, 58, 60, 62,\n",
       "       64, 66, 68, 70])"
      ]
     },
     "execution_count": 21,
     "metadata": {},
     "output_type": "execute_result"
    }
   ],
   "source": [
    "a= np.arange(30,71, 2)\n",
    "a\n"
   ]
  },
  {
   "cell_type": "code",
   "execution_count": 22,
   "id": "c307edfc",
   "metadata": {},
   "outputs": [
    {
     "data": {
      "text/plain": [
       "array([31, 33, 35, 37, 39, 41, 43, 45, 47, 49, 51, 53, 55, 57, 59, 61, 63,\n",
       "       65, 67, 69])"
      ]
     },
     "execution_count": 22,
     "metadata": {},
     "output_type": "execute_result"
    }
   ],
   "source": [
    "# to create an array of all odd integers from 30 t0 70\n",
    "a= np.arange(31,71, 2)\n",
    "a"
   ]
  },
  {
   "cell_type": "markdown",
   "id": "3e4fbe68",
   "metadata": {},
   "source": [
    "16.Write a NumPy program to create a 3x3 identity matrix."
   ]
  },
  {
   "cell_type": "code",
   "execution_count": 23,
   "id": "24ff3b46",
   "metadata": {},
   "outputs": [
    {
     "data": {
      "text/plain": [
       "array([[1., 0., 0.],\n",
       "       [0., 1., 0.],\n",
       "       [0., 0., 1.]])"
      ]
     },
     "execution_count": 23,
     "metadata": {},
     "output_type": "execute_result"
    }
   ],
   "source": [
    "a = np.identity(3) # value means 3 by 3\n",
    "a"
   ]
  },
  {
   "cell_type": "markdown",
   "id": "c3aaee59",
   "metadata": {},
   "source": [
    "17.Write a NumPy program to generate a random number between 0 and 1."
   ]
  },
  {
   "cell_type": "code",
   "execution_count": 24,
   "id": "7249c7b3",
   "metadata": {},
   "outputs": [
    {
     "name": "stdout",
     "output_type": "stream",
     "text": [
      "0.7427796528490335\n"
     ]
    }
   ],
   "source": [
    "print(np.random.rand())"
   ]
  },
  {
   "cell_type": "markdown",
   "id": "6cbbedec",
   "metadata": {},
   "source": [
    "18. Write a NumPy program to generate an array of 15 random numbers from a standard normal distribution"
   ]
  },
  {
   "cell_type": "code",
   "execution_count": 25,
   "id": "3046ad17",
   "metadata": {},
   "outputs": [
    {
     "name": "stdout",
     "output_type": "stream",
     "text": [
      "[0.21314976 0.22850707 0.14131588 0.59134856 0.97543254 0.14900413\n",
      " 0.77349285 0.99486792 0.66769338 0.10656944 0.32255617 0.78521996\n",
      " 0.51372059 0.50973438 0.22411052]\n"
     ]
    }
   ],
   "source": [
    "print(np.random.rand(15))"
   ]
  },
  {
   "cell_type": "markdown",
   "id": "22c14722",
   "metadata": {},
   "source": [
    "19.Write a NumPy program to create a vector with values ranging from 15 to 55 and print all values except the first and last"
   ]
  },
  {
   "cell_type": "code",
   "execution_count": 26,
   "id": "f9ec6129",
   "metadata": {},
   "outputs": [
    {
     "data": {
      "text/plain": [
       "array([16, 17, 18, 19, 20, 21, 22, 23, 24, 25, 26, 27, 28, 29, 30, 31, 32,\n",
       "       33, 34, 35, 36, 37, 38, 39, 40, 41, 42, 43, 44, 45, 46, 47, 48, 49,\n",
       "       50, 51, 52, 53, 54])"
      ]
     },
     "execution_count": 26,
     "metadata": {},
     "output_type": "execute_result"
    }
   ],
   "source": [
    "a = np.arange(15,56)\n",
    "aa = a[1: -1]\n",
    "aa"
   ]
  },
  {
   "cell_type": "markdown",
   "id": "c7814e35",
   "metadata": {},
   "source": [
    "21. Write a NumPy program to create a vector of length 10 with values evenly distributed between 5 and 50"
   ]
  },
  {
   "cell_type": "code",
   "execution_count": 27,
   "id": "1d419194",
   "metadata": {},
   "outputs": [
    {
     "data": {
      "text/plain": [
       "array([ 5., 10., 15., 20., 25., 30., 35., 40., 45., 50.])"
      ]
     },
     "execution_count": 27,
     "metadata": {},
     "output_type": "execute_result"
    }
   ],
   "source": [
    "a= np.linspace(5, 50, 10)\n",
    "a"
   ]
  },
  {
   "cell_type": "markdown",
   "id": "c6d5e596",
   "metadata": {},
   "source": [
    "22. Write a NumPy program to create a vector with values from 0 to 20 and change the sign of the numbers in the range from 9 to 15."
   ]
  },
  {
   "cell_type": "code",
   "execution_count": 28,
   "id": "2c44da22",
   "metadata": {},
   "outputs": [
    {
     "name": "stdout",
     "output_type": "stream",
     "text": [
      "[ 0  1  2  3  4  5  6  7  8  9 10 11 12 13 14 15 16 17 18 19]\n",
      "[  0   1   2   3   4   5   6   7   8  -9 -10 -11 -12 -13 -14 -15  16  17\n",
      "  18  19]\n",
      "[  0   1   2   3   4   5   6   7   8  -9 -10 -11 -12 -13 -14 -15  16  17\n",
      "  18  19]\n"
     ]
    }
   ],
   "source": [
    "a = np.arange(0, 20)\n",
    "print(a)\n",
    "a[(a>=9) & (a<=15)] *= -1\n",
    "print(a)\n",
    "a = np.arange(0, 20)\n",
    "a[9:16] *= -1\n",
    "print(a)"
   ]
  },
  {
   "cell_type": "markdown",
   "id": "6ba622e4",
   "metadata": {},
   "source": [
    "23.Write a NumPy program to create a vector of length 5 filled with arbitrary integers from 0 to 10."
   ]
  },
  {
   "cell_type": "code",
   "execution_count": 29,
   "id": "2c2da818",
   "metadata": {},
   "outputs": [
    {
     "data": {
      "text/plain": [
       "array([8, 9, 4, 3, 8])"
      ]
     },
     "execution_count": 29,
     "metadata": {},
     "output_type": "execute_result"
    }
   ],
   "source": [
    "a = np.random.randint(0, 10, 5, dtype=\"int\")\n",
    "a"
   ]
  },
  {
   "cell_type": "markdown",
   "id": "9c60a41c",
   "metadata": {},
   "source": [
    "24.Write a NumPy program to multiply the values of two given vectors"
   ]
  },
  {
   "cell_type": "code",
   "execution_count": 30,
   "id": "4cd16f5a",
   "metadata": {},
   "outputs": [
    {
     "name": "stdout",
     "output_type": "stream",
     "text": [
      "[4 6 6 4]\n"
     ]
    }
   ],
   "source": [
    "a= np.array([1, 2, 3, 4])\n",
    "b= np.array([4, 3, 2, 1])\n",
    "print(a*b)"
   ]
  },
  {
   "cell_type": "markdown",
   "id": "a95a89a4",
   "metadata": {},
   "source": [
    "25.Write a NumPy program to create a 3x4 matrix filled with values from 10 to 21"
   ]
  },
  {
   "cell_type": "code",
   "execution_count": 31,
   "id": "ed42101a",
   "metadata": {},
   "outputs": [
    {
     "data": {
      "text/plain": [
       "array([[10, 11, 12, 13],\n",
       "       [14, 15, 16, 17],\n",
       "       [18, 19, 20, 21]])"
      ]
     },
     "execution_count": 31,
     "metadata": {},
     "output_type": "execute_result"
    }
   ],
   "source": [
    "a = np.arange(10,22).reshape((3,4))\n",
    "a\n"
   ]
  },
  {
   "cell_type": "markdown",
   "id": "7c084bd6",
   "metadata": {},
   "source": [
    "26.Write a NumPy program to find the number of rows and columns in a given matrix"
   ]
  },
  {
   "cell_type": "code",
   "execution_count": 32,
   "id": "0ab628d2",
   "metadata": {},
   "outputs": [
    {
     "name": "stdout",
     "output_type": "stream",
     "text": [
      "(5, 7)\n"
     ]
    }
   ],
   "source": [
    "a = np.empty((5,7))\n",
    "print(a.shape)"
   ]
  },
  {
   "cell_type": "markdown",
   "id": "0af4ef16",
   "metadata": {},
   "source": [
    "27.Write a NumPy program to create a 3x3 identity matrix, i.e. the diagonal elements are 1, the rest are 0"
   ]
  },
  {
   "cell_type": "code",
   "execution_count": 33,
   "id": "7336318b",
   "metadata": {},
   "outputs": [
    {
     "data": {
      "text/plain": [
       "array([[1., 0., 0.],\n",
       "       [0., 1., 0.],\n",
       "       [0., 0., 1.]])"
      ]
     },
     "execution_count": 33,
     "metadata": {},
     "output_type": "execute_result"
    }
   ],
   "source": [
    "a =np.eye(3)\n",
    "a\n"
   ]
  },
  {
   "cell_type": "markdown",
   "id": "9d56cfc7",
   "metadata": {},
   "source": [
    "28.Write a NumPy program to create a 10x10 matrix, in which the elements on the borders will be equal to 1, and inside 0"
   ]
  },
  {
   "cell_type": "code",
   "execution_count": 34,
   "id": "c1a84c95",
   "metadata": {},
   "outputs": [
    {
     "data": {
      "text/plain": [
       "array([[1., 1., 1., 1., 1., 1., 1., 1., 1., 1.],\n",
       "       [1., 0., 0., 0., 0., 0., 0., 0., 0., 1.],\n",
       "       [1., 0., 0., 0., 0., 0., 0., 0., 0., 1.],\n",
       "       [1., 0., 0., 0., 0., 0., 0., 0., 0., 1.],\n",
       "       [1., 0., 0., 0., 0., 0., 0., 0., 0., 1.],\n",
       "       [1., 0., 0., 0., 0., 0., 0., 0., 0., 1.],\n",
       "       [1., 0., 0., 0., 0., 0., 0., 0., 0., 1.],\n",
       "       [1., 0., 0., 0., 0., 0., 0., 0., 0., 1.],\n",
       "       [1., 0., 0., 0., 0., 0., 0., 0., 0., 1.],\n",
       "       [1., 1., 1., 1., 1., 1., 1., 1., 1., 1.]])"
      ]
     },
     "execution_count": 34,
     "metadata": {},
     "output_type": "execute_result"
    }
   ],
   "source": [
    "a = np.zeros((10,10))\n",
    "a[0] =1\n",
    "a[:, 0] =1\n",
    "a[9] =1\n",
    "a[:, 9] = 1\n",
    "a"
   ]
  },
  {
   "cell_type": "code",
   "execution_count": 35,
   "id": "1c417b31",
   "metadata": {},
   "outputs": [
    {
     "data": {
      "text/plain": [
       "array([[1., 1., 1., 1., 1., 1., 1., 1., 1., 1.],\n",
       "       [1., 0., 0., 0., 0., 0., 0., 0., 0., 1.],\n",
       "       [1., 0., 0., 0., 0., 0., 0., 0., 0., 1.],\n",
       "       [1., 0., 0., 0., 0., 0., 0., 0., 0., 1.],\n",
       "       [1., 0., 0., 0., 0., 0., 0., 0., 0., 1.],\n",
       "       [1., 0., 0., 0., 0., 0., 0., 0., 0., 1.],\n",
       "       [1., 0., 0., 0., 0., 0., 0., 0., 0., 1.],\n",
       "       [1., 0., 0., 0., 0., 0., 0., 0., 0., 1.],\n",
       "       [1., 0., 0., 0., 0., 0., 0., 0., 0., 1.],\n",
       "       [1., 1., 1., 1., 1., 1., 1., 1., 1., 1.]])"
      ]
     },
     "execution_count": 35,
     "metadata": {},
     "output_type": "execute_result"
    }
   ],
   "source": [
    "a = np.ones((10,10))\n",
    "a[1:-1, 1:-1] = 0\n",
    "a"
   ]
  },
  {
   "cell_type": "markdown",
   "id": "011c8969",
   "metadata": {},
   "source": [
    "29.Write a NumPy program to create a 5x5 zero matrix with elements on the main diagonal equal to 1, 2, 3, 4, 5."
   ]
  },
  {
   "cell_type": "code",
   "execution_count": 36,
   "id": "5a718170",
   "metadata": {},
   "outputs": [
    {
     "data": {
      "text/plain": [
       "array([[1, 0, 0, 0, 0],\n",
       "       [0, 2, 0, 0, 0],\n",
       "       [0, 0, 3, 0, 0],\n",
       "       [0, 0, 0, 4, 0],\n",
       "       [0, 0, 0, 0, 5]])"
      ]
     },
     "execution_count": 36,
     "metadata": {},
     "output_type": "execute_result"
    }
   ],
   "source": [
    "a = np.diag([1,2,3,4,5])\n",
    "a"
   ]
  },
  {
   "cell_type": "markdown",
   "id": "4ab955b9",
   "metadata": {},
   "source": [
    "30.Write a NumPy program to create a 4x4 matrix in which 0 and 1 are staggered, with zeros on the main diagonal."
   ]
  },
  {
   "cell_type": "code",
   "execution_count": 37,
   "id": "c4e62058",
   "metadata": {},
   "outputs": [
    {
     "data": {
      "text/plain": [
       "array([[0., 1., 0., 1.],\n",
       "       [1., 0., 0., 0.],\n",
       "       [0., 1., 0., 1.],\n",
       "       [1., 0., 1., 0.]])"
      ]
     },
     "execution_count": 37,
     "metadata": {},
     "output_type": "execute_result"
    }
   ],
   "source": [
    "a = np.zeros((4,4))\n",
    "a[0,1] =1\n",
    "a[0,3] =1\n",
    "a[1,0] =1\n",
    "a[3,0] =1\n",
    "a[2,1] =1\n",
    "a[2,3] =1\n",
    "a[3,2] =1\n",
    "a"
   ]
  },
  {
   "cell_type": "code",
   "execution_count": 38,
   "id": "884d93d3",
   "metadata": {},
   "outputs": [
    {
     "data": {
      "text/plain": [
       "array([[0., 1., 0., 1.],\n",
       "       [1., 0., 1., 0.],\n",
       "       [0., 1., 0., 1.],\n",
       "       [1., 0., 1., 0.]])"
      ]
     },
     "execution_count": 38,
     "metadata": {},
     "output_type": "execute_result"
    }
   ],
   "source": [
    "x = np.zeros((4,4))\n",
    "x[::2, 1::2] = 1\n",
    "x[1::2, ::2] = 1\n",
    "x"
   ]
  },
  {
   "cell_type": "markdown",
   "id": "5bcb3200",
   "metadata": {},
   "source": [
    "31.Write a NumPy program to create a 3x3x3 array filled with arbitrary values"
   ]
  },
  {
   "cell_type": "code",
   "execution_count": 39,
   "id": "80b6418f",
   "metadata": {},
   "outputs": [
    {
     "name": "stdout",
     "output_type": "stream",
     "text": [
      "[[[0.88048211 0.50040245 0.84999412]\n",
      "  [0.82842902 0.85158124 0.13630351]\n",
      "  [0.83061075 0.96524726 0.86366214]]\n",
      "\n",
      " [[0.83620201 0.39622884 0.68781166]\n",
      "  [0.16626741 0.4333025  0.78660685]\n",
      "  [0.89365238 0.65820106 0.33652012]]\n",
      "\n",
      " [[0.33926823 0.69028706 0.74165489]\n",
      "  [0.51309768 0.63218207 0.31485671]\n",
      "  [0.80262609 0.61522103 0.84827776]]]\n"
     ]
    }
   ],
   "source": [
    "a = np.random.random((3,3,3))\n",
    "print(a)\n"
   ]
  },
  {
   "cell_type": "code",
   "execution_count": 40,
   "id": "03901f1e",
   "metadata": {},
   "outputs": [
    {
     "name": "stdout",
     "output_type": "stream",
     "text": [
      "[10  9  2  6 19 18  5 21 12 12 19  3 13 19 20 10  3 21 19  6 12  6  8 14\n",
      " 15 26  6]\n",
      "[[[10  9  2]\n",
      "  [ 6 19 18]\n",
      "  [ 5 21 12]]\n",
      "\n",
      " [[12 19  3]\n",
      "  [13 19 20]\n",
      "  [10  3 21]]\n",
      "\n",
      " [[19  6 12]\n",
      "  [ 6  8 14]\n",
      "  [15 26  6]]]\n"
     ]
    }
   ],
   "source": [
    "a = np.random.randint(0, 27, 27, dtype= 'i4')\n",
    "print(a)\n",
    "b= a.reshape((3,3,3))\n",
    "print(b)"
   ]
  },
  {
   "cell_type": "markdown",
   "id": "7e0876c4",
   "metadata": {},
   "source": [
    "32.Write a NumPy program to compute the sum of all elements, the sum of each column and the sum of each row in a given array."
   ]
  },
  {
   "cell_type": "code",
   "execution_count": 41,
   "id": "36e398e8",
   "metadata": {},
   "outputs": [
    {
     "name": "stdout",
     "output_type": "stream",
     "text": [
      "[ 10  19  21  27  46  64  69  90 102 114 133 136 149 168 188 198 201 222\n",
      " 241 247 259 265 273 287 302 328 334]\n",
      "______________________\n",
      "[[[10  9  2]\n",
      "  [ 6 19 18]\n",
      "  [ 5 21 12]]\n",
      "\n",
      " [[22 28  5]\n",
      "  [19 38 38]\n",
      "  [15 24 33]]\n",
      "\n",
      " [[41 34 17]\n",
      "  [25 46 52]\n",
      "  [30 50 39]]]\n",
      "______________________\n",
      "[[[10  9  2]\n",
      "  [16 28 20]\n",
      "  [21 49 32]]\n",
      "\n",
      " [[12 19  3]\n",
      "  [25 38 23]\n",
      "  [35 41 44]]\n",
      "\n",
      " [[19  6 12]\n",
      "  [25 14 26]\n",
      "  [40 40 32]]]\n"
     ]
    }
   ],
   "source": [
    "\n",
    "print(np.cumsum(b))\n",
    "print(\"______________________\")\n",
    "print(np.cumsum(b,axis =0))\n",
    "print(\"______________________\")\n",
    "print(np.cumsum(b,axis =1))"
   ]
  },
  {
   "cell_type": "markdown",
   "id": "5a090416",
   "metadata": {},
   "source": [
    "33.Write a NumPy program to compute the inner product of two given vectors"
   ]
  },
  {
   "cell_type": "code",
   "execution_count": 42,
   "id": "4c040972",
   "metadata": {},
   "outputs": [
    {
     "name": "stdout",
     "output_type": "stream",
     "text": [
      "14\n"
     ]
    }
   ],
   "source": [
    "a = np.array([1,2,3,3])\n",
    "b = np.array([2,3,1,1])\n",
    "print(a.dot(b))"
   ]
  },
  {
   "cell_type": "markdown",
   "id": "f97366d6",
   "metadata": {},
   "source": [
    "34. Write a NumPy program to add a vector to each row of a given matrix"
   ]
  },
  {
   "cell_type": "code",
   "execution_count": 43,
   "id": "461eec11",
   "metadata": {},
   "outputs": [
    {
     "data": {
      "text/plain": [
       "(4, 3)"
      ]
     },
     "execution_count": 43,
     "metadata": {},
     "output_type": "execute_result"
    }
   ],
   "source": [
    "m = np.array([[1,2,3], [4,5,6], [7,8,9], [10, 11, 12]])\n",
    "v = np.array([[1, 1, 0], [1, 1, 0],[1, 1, 0],[1, 1, 0]])\n",
    "m.shape"
   ]
  },
  {
   "cell_type": "code",
   "execution_count": 44,
   "id": "1d62d1d0",
   "metadata": {},
   "outputs": [
    {
     "data": {
      "text/plain": [
       "(4, 6)"
      ]
     },
     "execution_count": 44,
     "metadata": {},
     "output_type": "execute_result"
    }
   ],
   "source": [
    "mv = np.append(m, v, axis=1)\n",
    "mv\n",
    "mv.shape"
   ]
  },
  {
   "cell_type": "markdown",
   "id": "759047f4",
   "metadata": {},
   "source": [
    "## 2-Numpy array"
   ]
  },
  {
   "cell_type": "code",
   "execution_count": 45,
   "id": "7dfe3e14",
   "metadata": {},
   "outputs": [
    {
     "data": {
      "text/plain": [
       "array([[2, 3],\n",
       "       [4, 5]])"
      ]
     },
     "execution_count": 45,
     "metadata": {},
     "output_type": "execute_result"
    }
   ],
   "source": [
    "x = np.arange(2,6).reshape(2,2)\n",
    "x"
   ]
  },
  {
   "cell_type": "code",
   "execution_count": 46,
   "id": "381c5d0a",
   "metadata": {},
   "outputs": [
    {
     "data": {
      "text/plain": [
       "array([[1, 2, 3],\n",
       "       [4, 5, 6],\n",
       "       [7, 8, 9]])"
      ]
     },
     "execution_count": 46,
     "metadata": {},
     "output_type": "execute_result"
    }
   ],
   "source": [
    "x= np.arange(1,10).reshape(3,3)\n",
    "x"
   ]
  },
  {
   "cell_type": "code",
   "execution_count": 47,
   "id": "eaaa3db6",
   "metadata": {},
   "outputs": [
    {
     "data": {
      "text/plain": [
       "array([[[ 1,  2,  3],\n",
       "        [ 4,  5,  6],\n",
       "        [ 7,  8,  9]],\n",
       "\n",
       "       [[10, 11, 12],\n",
       "        [13, 14, 15],\n",
       "        [16, 17, 18]],\n",
       "\n",
       "       [[19, 20, 21],\n",
       "        [22, 23, 24],\n",
       "        [25, 26, 27]]])"
      ]
     },
     "execution_count": 47,
     "metadata": {},
     "output_type": "execute_result"
    }
   ],
   "source": [
    "x= np.arange(1,28).reshape(3,3,3)\n",
    "x"
   ]
  },
  {
   "cell_type": "code",
   "execution_count": 48,
   "id": "35a09e8b",
   "metadata": {},
   "outputs": [
    {
     "name": "stdout",
     "output_type": "stream",
     "text": [
      "1.23.5\n"
     ]
    }
   ],
   "source": [
    "print(np.__version__)"
   ]
  },
  {
   "cell_type": "code",
   "execution_count": 49,
   "id": "cfddc511",
   "metadata": {},
   "outputs": [
    {
     "data": {
      "text/plain": [
       "array([ 12.23,  13.32, 100.  ,  36.32])"
      ]
     },
     "execution_count": 49,
     "metadata": {},
     "output_type": "execute_result"
    }
   ],
   "source": [
    "x = [12.23, 13.32, 100, 36.32]\n",
    "\n",
    "a = np.array(x)\n",
    "a"
   ]
  },
  {
   "cell_type": "code",
   "execution_count": 50,
   "id": "0531a2f8",
   "metadata": {},
   "outputs": [
    {
     "data": {
      "text/plain": [
       "array([[ 2,  3,  4],\n",
       "       [ 5,  6,  7],\n",
       "       [ 8,  9, 10]])"
      ]
     },
     "execution_count": 50,
     "metadata": {},
     "output_type": "execute_result"
    }
   ],
   "source": [
    "a= np.arange(2,11).reshape(3,3)\n",
    "a"
   ]
  },
  {
   "cell_type": "code",
   "execution_count": 51,
   "id": "db39e964",
   "metadata": {},
   "outputs": [
    {
     "data": {
      "text/plain": [
       "array([ 0.,  0.,  0.,  0.,  0.,  0., 11.,  0.,  0.,  0.])"
      ]
     },
     "execution_count": 51,
     "metadata": {},
     "output_type": "execute_result"
    }
   ],
   "source": [
    "a = np.zeros(10)\n",
    "a[6] =11\n",
    "a"
   ]
  },
  {
   "cell_type": "code",
   "execution_count": 52,
   "id": "afa903a8",
   "metadata": {},
   "outputs": [
    {
     "data": {
      "text/plain": [
       "array([12, 13, 14, 15, 16, 17, 18, 19, 20, 21, 22, 23, 24, 25, 26, 27, 28,\n",
       "       29, 30, 31, 32, 33, 34, 35, 36, 37])"
      ]
     },
     "execution_count": 52,
     "metadata": {},
     "output_type": "execute_result"
    }
   ],
   "source": [
    "a= np.arange(12, 38)\n",
    "a"
   ]
  },
  {
   "cell_type": "code",
   "execution_count": 53,
   "id": "8a45a208",
   "metadata": {},
   "outputs": [
    {
     "data": {
      "text/plain": [
       "array([37, 36, 35, 34, 33, 32, 31, 30, 29, 28, 27, 26, 25, 24, 23, 22, 21,\n",
       "       20, 19, 18, 17, 16, 15, 14, 13, 12])"
      ]
     },
     "execution_count": 53,
     "metadata": {},
     "output_type": "execute_result"
    }
   ],
   "source": [
    "# to print reverse of array a\n",
    "a[::-1]"
   ]
  },
  {
   "cell_type": "code",
   "execution_count": 54,
   "id": "67774b8f",
   "metadata": {},
   "outputs": [
    {
     "data": {
      "text/plain": [
       "array([12., 13., 14., 15., 16., 17., 18., 19., 20., 21., 22., 23., 24.,\n",
       "       25., 26., 27., 28., 29., 30., 31., 32., 33., 34., 35., 36., 37.])"
      ]
     },
     "execution_count": 54,
     "metadata": {},
     "output_type": "execute_result"
    }
   ],
   "source": [
    "x = np.asfarray(a)\n",
    "x"
   ]
  },
  {
   "cell_type": "code",
   "execution_count": 55,
   "id": "c5bda3bf",
   "metadata": {},
   "outputs": [
    {
     "data": {
      "text/plain": [
       "array([[1., 1., 1., 1.],\n",
       "       [1., 1., 1., 1.],\n",
       "       [1., 1., 1., 1.],\n",
       "       [1., 1., 1., 1.]])"
      ]
     },
     "execution_count": 55,
     "metadata": {},
     "output_type": "execute_result"
    }
   ],
   "source": [
    "x = np.ones((4, 4))\n",
    "x"
   ]
  },
  {
   "cell_type": "code",
   "execution_count": 56,
   "id": "901a7901",
   "metadata": {},
   "outputs": [
    {
     "data": {
      "text/plain": [
       "array([[1., 1., 1., 1.],\n",
       "       [1., 0., 0., 1.],\n",
       "       [1., 0., 0., 1.],\n",
       "       [1., 1., 1., 1.]])"
      ]
     },
     "execution_count": 56,
     "metadata": {},
     "output_type": "execute_result"
    }
   ],
   "source": [
    "x[1:-1, 1:-1] =0\n",
    "x"
   ]
  },
  {
   "cell_type": "code",
   "execution_count": 57,
   "id": "37de9924",
   "metadata": {},
   "outputs": [
    {
     "data": {
      "text/plain": [
       "array([[0, 0, 0],\n",
       "       [0, 4, 0],\n",
       "       [0, 3, 0],\n",
       "       [0, 0, 0]])"
      ]
     },
     "execution_count": 57,
     "metadata": {},
     "output_type": "execute_result"
    }
   ],
   "source": [
    "x =np.array([[2,3,6],[3,4,7],[2,3,6],[3,4,7]])\n",
    "x[0: ,0 ] = 0\n",
    "x[0:, 2] =0\n",
    "x[0] =0\n",
    "x[3] =0\n",
    "x"
   ]
  },
  {
   "cell_type": "code",
   "execution_count": 58,
   "id": "204366db",
   "metadata": {},
   "outputs": [
    {
     "name": "stdout",
     "output_type": "stream",
     "text": [
      "[[0 1 0 1 0 1 0 1]\n",
      " [1 0 1 0 1 0 1 0]\n",
      " [0 1 0 1 0 1 0 1]\n",
      " [1 0 1 0 1 0 1 0]\n",
      " [0 1 0 1 0 1 0 1]\n",
      " [1 0 1 0 1 0 1 0]\n",
      " [0 1 0 1 0 1 0 1]\n",
      " [1 0 1 0 1 0 1 0]]\n"
     ]
    }
   ],
   "source": [
    "x = np.zeros((8,8),dtype=int)\n",
    "x[1::2,::2] = 1\n",
    "x[::2,1::2] = 1\n",
    "print(x)\n"
   ]
  },
  {
   "cell_type": "code",
   "execution_count": 59,
   "id": "3e64f2fe",
   "metadata": {},
   "outputs": [
    {
     "name": "stdout",
     "output_type": "stream",
     "text": [
      "[1 2 3 4 5 6 7 8]\n",
      "[[1 2 3 4]\n",
      " [1 2 3 4]]\n"
     ]
    }
   ],
   "source": [
    "l = [1, 2, 3, 4, 5, 6, 7, 8]\n",
    "print(np.asarray(l))\n",
    "t = ([1,2,3,4],[1,2,3,4])\n",
    "print(np.asarray(t))"
   ]
  },
  {
   "cell_type": "code",
   "execution_count": 60,
   "id": "be16fa45",
   "metadata": {},
   "outputs": [
    {
     "data": {
      "text/plain": [
       "array([10, 20, 30, 40, 50, 60, 70, 80, 90])"
      ]
     },
     "execution_count": 60,
     "metadata": {},
     "output_type": "execute_result"
    }
   ],
   "source": [
    "a= np.array([10, 20, 30])\n",
    "b = np.append(a,[[40, 50, 60, 70,80, 90]])\n",
    "b"
   ]
  },
  {
   "cell_type": "code",
   "execution_count": 61,
   "id": "3b50ffd9",
   "metadata": {},
   "outputs": [
    {
     "data": {
      "text/plain": [
       "array([[1., 1., 1., 1.],\n",
       "       [1., 1., 1., 1.],\n",
       "       [1., 1., 1., 1.]])"
      ]
     },
     "execution_count": 61,
     "metadata": {},
     "output_type": "execute_result"
    }
   ],
   "source": [
    "x =np.empty((3,4))\n",
    "x"
   ]
  },
  {
   "cell_type": "code",
   "execution_count": 62,
   "id": "5d73aec1",
   "metadata": {},
   "outputs": [
    {
     "data": {
      "text/plain": [
       "array([[44, 44, 44, 44],\n",
       "       [44, 44, 44, 44],\n",
       "       [44, 44, 44, 44]])"
      ]
     },
     "execution_count": 62,
     "metadata": {},
     "output_type": "execute_result"
    }
   ],
   "source": [
    "x =np.full((3,4), 44)\n",
    "x"
   ]
  },
  {
   "cell_type": "markdown",
   "id": "45244116",
   "metadata": {},
   "source": [
    "## 3-Linear Algebra"
   ]
  },
  {
   "cell_type": "code",
   "execution_count": 63,
   "id": "d2edf1eb",
   "metadata": {},
   "outputs": [
    {
     "name": "stdout",
     "output_type": "stream",
     "text": [
      "[[1 2]\n",
      " [3 4]]\n"
     ]
    }
   ],
   "source": [
    "p = np.array([[1, 0], [0, 1]])\n",
    "q = np.array([[1, 2], [3, 4]])\n",
    "print(q.dot(p))"
   ]
  },
  {
   "cell_type": "code",
   "execution_count": 64,
   "id": "f06d5a24",
   "metadata": {},
   "outputs": [
    {
     "name": "stdout",
     "output_type": "stream",
     "text": [
      "[[1 2 3 4]\n",
      " [0 0 0 0]\n",
      " [0 0 0 0]\n",
      " [1 2 3 4]]\n"
     ]
    }
   ],
   "source": [
    "p = np.array([[1, 0], [0, 1]])\n",
    "q = np.array([[1, 2], [3, 4]])\n",
    "print(np.outer(p,q, out=None))"
   ]
  },
  {
   "cell_type": "code",
   "execution_count": 65,
   "id": "14269c7a",
   "metadata": {},
   "outputs": [
    {
     "name": "stdout",
     "output_type": "stream",
     "text": [
      "-12.999999999999995\n"
     ]
    }
   ],
   "source": [
    "from numpy import linalg as LA\n",
    "a = np.array([[1, 0, 3], [1, 2, 4], [2, 3, 1]])\n",
    "print(np.linalg.det(a))"
   ]
  },
  {
   "cell_type": "code",
   "execution_count": 66,
   "id": "539f5307",
   "metadata": {},
   "outputs": [
    {
     "name": "stdout",
     "output_type": "stream",
     "text": [
      "20\n"
     ]
    }
   ],
   "source": [
    "a= np.array([1,2,3])\n",
    "b= np.array([2,3,4])\n",
    "result =np.einsum(\"n,n\", a, b)\n",
    "print(result)"
   ]
  },
  {
   "cell_type": "code",
   "execution_count": 67,
   "id": "c7036b24",
   "metadata": {},
   "outputs": [
    {
     "data": {
      "text/plain": [
       "4"
      ]
     },
     "execution_count": 67,
     "metadata": {},
     "output_type": "execute_result"
    }
   ],
   "source": [
    "a = np.array([1,2,5])\n",
    "b = np.array([2,1,0])\n",
    "result = np.inner(a, b)\n",
    "result"
   ]
  },
  {
   "cell_type": "code",
   "execution_count": 68,
   "id": "4e99521e",
   "metadata": {},
   "outputs": [
    {
     "name": "stdout",
     "output_type": "stream",
     "text": [
      "4\n"
     ]
    }
   ],
   "source": [
    "a = np.array([1,2,5])\n",
    "b = np.array([2,1,0])\n",
    "print(a.dot(b))"
   ]
  },
  {
   "cell_type": "code",
   "execution_count": 75,
   "id": "3a9c9957",
   "metadata": {},
   "outputs": [
    {
     "name": "stdout",
     "output_type": "stream",
     "text": [
      "[[-2.   1. ]\n",
      " [ 1.5 -0.5]]\n"
     ]
    }
   ],
   "source": [
    "#matrix must be square\n",
    "a = np.array([[1,2], [3,4]])\n",
    "print(np.linalg.inv(a))"
   ]
  },
  {
   "cell_type": "code",
   "execution_count": 77,
   "id": "d2b20109",
   "metadata": {},
   "outputs": [
    {
     "name": "stdout",
     "output_type": "stream",
     "text": [
      "(array([[-0.31622777, -0.9486833 ],\n",
      "       [-0.9486833 ,  0.31622777]]), array([[-3.16227766, -4.42718872],\n",
      "       [ 0.        , -0.63245553]]))\n"
     ]
    }
   ],
   "source": [
    "#qr to get QR decomposition\n",
    "m = np.array([[1,2],[3,4]])\n",
    "print(np.linalg.qr(m))"
   ]
  },
  {
   "cell_type": "code",
   "execution_count": 80,
   "id": "b9131f4d",
   "metadata": {},
   "outputs": [
    {
     "name": "stdout",
     "output_type": "stream",
     "text": [
      "14.933034373659268\n"
     ]
    }
   ],
   "source": [
    "m = np.array([[1,2],[3,4]])\n",
    "print(np.linalg.cond(m))"
   ]
  },
  {
   "cell_type": "markdown",
   "id": "a25373cf",
   "metadata": {},
   "source": [
    "## 4-Mathematics"
   ]
  },
  {
   "cell_type": "code",
   "execution_count": 82,
   "id": "3720360a",
   "metadata": {},
   "outputs": [
    {
     "name": "stdout",
     "output_type": "stream",
     "text": [
      "5.0\n"
     ]
    }
   ],
   "source": [
    "print(np.add(1.0, 4.0))"
   ]
  },
  {
   "cell_type": "code",
   "execution_count": 84,
   "id": "2cb22802",
   "metadata": {},
   "outputs": [
    {
     "name": "stdout",
     "output_type": "stream",
     "text": [
      "3.0\n"
     ]
    }
   ],
   "source": [
    "print(np.subtract(4.0, 1.0))"
   ]
  },
  {
   "cell_type": "code",
   "execution_count": 85,
   "id": "f074fd41",
   "metadata": {},
   "outputs": [
    {
     "name": "stdout",
     "output_type": "stream",
     "text": [
      "4\n"
     ]
    }
   ],
   "source": [
    "print(np.multiply(1, 4))"
   ]
  },
  {
   "cell_type": "code",
   "execution_count": 88,
   "id": "422d28c1",
   "metadata": {},
   "outputs": [
    {
     "name": "stdout",
     "output_type": "stream",
     "text": [
      "2\n"
     ]
    }
   ],
   "source": [
    "print(int(np.divide(4,2)))"
   ]
  },
  {
   "cell_type": "code",
   "execution_count": 89,
   "id": "c6347648",
   "metadata": {},
   "outputs": [
    {
     "name": "stdout",
     "output_type": "stream",
     "text": [
      "[ 1  8 27]\n"
     ]
    }
   ],
   "source": [
    "#to get the powers of an array values element-wise\n",
    "a= np.array([1,2,3])\n",
    "print(np.power(a,3))"
   ]
  },
  {
   "cell_type": "code",
   "execution_count": 90,
   "id": "b34291cc",
   "metadata": {},
   "outputs": [
    {
     "name": "stdout",
     "output_type": "stream",
     "text": [
      "[2 0 0]\n"
     ]
    }
   ],
   "source": [
    "#to get the powers of an array values element-wise\n",
    "a= np.array([8, 6,3])\n",
    "print(np.remainder(a,3))"
   ]
  },
  {
   "cell_type": "code",
   "execution_count": 91,
   "id": "6b1efea4",
   "metadata": {},
   "outputs": [
    {
     "name": "stdout",
     "output_type": "stream",
     "text": [
      "[1 3 4]\n"
     ]
    }
   ],
   "source": [
    "#to calculate the absolute value element-wise.\n",
    "a=np.array([-1, -3, 4])\n",
    "print(np.absolute(a))"
   ]
  },
  {
   "cell_type": "code",
   "execution_count": null,
   "id": "62d89a55",
   "metadata": {},
   "outputs": [],
   "source": []
  }
 ],
 "metadata": {
  "kernelspec": {
   "display_name": "Python 3 (ipykernel)",
   "language": "python",
   "name": "python3"
  },
  "language_info": {
   "codemirror_mode": {
    "name": "ipython",
    "version": 3
   },
   "file_extension": ".py",
   "mimetype": "text/x-python",
   "name": "python",
   "nbconvert_exporter": "python",
   "pygments_lexer": "ipython3",
   "version": "3.10.9"
  }
 },
 "nbformat": 4,
 "nbformat_minor": 5
}
